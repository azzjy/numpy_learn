{
 "cells": [
  {
   "cell_type": "code",
   "execution_count": 1,
   "id": "8a6781bf-ce96-4b6f-8cf7-518f29fa5206",
   "metadata": {},
   "outputs": [
    {
     "data": {
      "text/plain": [
       "'\\n通过hstack函数可以将两个或多个数组水平组合起来形成一个数组，什么叫做数组的水平合租，现在有两个2*3的数组A和B\\n    数组A\\n    0  1  2\\n    数组B\\n    3  4  5\\n'"
      ]
     },
     "execution_count": 1,
     "metadata": {},
     "output_type": "execute_result"
    }
   ],
   "source": [
    "'''\n",
    "通过hstack函数可以将两个或多个数组水平组合起来形成一个数组，什么叫做数组的水平合租，现在有两个2*3的数组A和B\n",
    "    数组A\n",
    "    0  1  2\n",
    "    数组B\n",
    "    3  4  5\n",
    "'''"
   ]
  },
  {
   "cell_type": "code",
   "execution_count": 2,
   "id": "453afc38-7141-4ba6-b5eb-6a6cce247f78",
   "metadata": {},
   "outputs": [],
   "source": [
    "import numpy as np"
   ]
  },
  {
   "cell_type": "code",
   "execution_count": 3,
   "id": "f2f0389b-70df-4df1-9373-a56d658124ce",
   "metadata": {},
   "outputs": [
    {
     "data": {
      "text/plain": [
       "array([[1, 2, 3],\n",
       "       [4, 5, 6]])"
      ]
     },
     "execution_count": 3,
     "metadata": {},
     "output_type": "execute_result"
    }
   ],
   "source": [
    "a = np.array([[1,2,3],[4,5,6]])\n",
    "a"
   ]
  },
  {
   "cell_type": "code",
   "execution_count": 10,
   "id": "0fbb13a8-e255-4d12-bad1-33aa63a2b140",
   "metadata": {},
   "outputs": [
    {
     "data": {
      "text/plain": [
       "array([['a', 'b', 'c', 'n'],\n",
       "       ['d', 'e', 'f', 'm']], dtype='<U1')"
      ]
     },
     "execution_count": 10,
     "metadata": {},
     "output_type": "execute_result"
    }
   ],
   "source": [
    "b = np.array([['a','b','c','n'],['d','e','f','m']])\n",
    "b"
   ]
  },
  {
   "cell_type": "code",
   "execution_count": 12,
   "id": "b215d3fa-0415-41c2-908b-555cf01f559d",
   "metadata": {},
   "outputs": [
    {
     "data": {
      "text/plain": [
       "array([['1', '2', '3', 'a', 'b', 'c', 'n'],\n",
       "       ['4', '5', '6', 'd', 'e', 'f', 'm']], dtype='<U21')"
      ]
     },
     "execution_count": 12,
     "metadata": {},
     "output_type": "execute_result"
    }
   ],
   "source": [
    "#水平拼接 拼接的行数必须要匹配,列不是必须要一致的\n",
    "np.hstack([a,b])"
   ]
  },
  {
   "cell_type": "code",
   "execution_count": 13,
   "id": "f1160d3e-2f5d-4419-b1bc-2b37178fd5a7",
   "metadata": {},
   "outputs": [
    {
     "data": {
      "text/plain": [
       "'\\n垂直数组结合\\n    通过vstack函数可以将两个或多个数组垂直组合起来形成一个数组\\n'"
      ]
     },
     "execution_count": 13,
     "metadata": {},
     "output_type": "execute_result"
    }
   ],
   "source": [
    "'''\n",
    "垂直数组结合\n",
    "    通过vstack函数可以将两个或多个数组垂直组合起来形成一个数组\n",
    "'''"
   ]
  },
  {
   "cell_type": "code",
   "execution_count": 17,
   "id": "378b3031-50b6-4ee3-aa25-f2e4249aa7d2",
   "metadata": {},
   "outputs": [
    {
     "data": {
      "text/plain": [
       "array([[1, 2, 3],\n",
       "       [4, 5, 6]])"
      ]
     },
     "execution_count": 17,
     "metadata": {},
     "output_type": "execute_result"
    }
   ],
   "source": [
    "a = np.array([[1,2,3],[4,5,6]])\n",
    "a"
   ]
  },
  {
   "cell_type": "code",
   "execution_count": 18,
   "id": "0b0d25fa-5db7-4cbb-aa44-9b64a73ab82f",
   "metadata": {},
   "outputs": [
    {
     "data": {
      "text/plain": [
       "array([['a', 'b', 'c'],\n",
       "       ['d', 'e', 'f'],\n",
       "       ['m', 'n', 'q']], dtype='<U1')"
      ]
     },
     "execution_count": 18,
     "metadata": {},
     "output_type": "execute_result"
    }
   ],
   "source": [
    "b = np.array([['a','b','c'],['d','e','f'],['m','n','q']])\n",
    "b"
   ]
  },
  {
   "cell_type": "code",
   "execution_count": 19,
   "id": "fd351f7a-c242-4b04-ad78-c25936c09eb1",
   "metadata": {},
   "outputs": [
    {
     "data": {
      "text/plain": [
       "array([['1', '2', '3'],\n",
       "       ['4', '5', '6'],\n",
       "       ['a', 'b', 'c'],\n",
       "       ['d', 'e', 'f'],\n",
       "       ['m', 'n', 'q']], dtype='<U21')"
      ]
     },
     "execution_count": 19,
     "metadata": {},
     "output_type": "execute_result"
    }
   ],
   "source": [
    "np.vstack([a,b])"
   ]
  },
  {
   "cell_type": "code",
   "execution_count": 24,
   "id": "e9133d0d-0f93-41d1-93b6-f8879f24ca6e",
   "metadata": {},
   "outputs": [
    {
     "data": {
      "text/plain": [
       "'\\n不管是vstack还是hstack都是调用的concatenate连接沿现有的轴的数组序列\\nnumpy.concatenate用于沿指定轴连接相同形状的两个或多个数组\\nnumpy.concatenate((a1,a2...),axis)\\n其中参数a1,a2...指相同类型的数组；axis指沿着他连接数组的轴，默认为0。为列方向\\n'"
      ]
     },
     "execution_count": 24,
     "metadata": {},
     "output_type": "execute_result"
    }
   ],
   "source": [
    "'''\n",
    "不管是vstack还是hstack都是调用的concatenate连接沿现有的轴的数组序列\n",
    "numpy.concatenate用于沿指定轴连接相同形状的两个或多个数组\n",
    "numpy.concatenate((a1,a2...),axis)\n",
    "其中参数a1,a2...指相同类型的数组；axis指沿着他连接数组的轴，默认为0。为列方向\n",
    "'''"
   ]
  },
  {
   "cell_type": "code",
   "execution_count": 22,
   "id": "c3884bae-7028-4d03-94e4-a82d753fe106",
   "metadata": {},
   "outputs": [
    {
     "data": {
      "text/plain": [
       "array([[1, 2, 3],\n",
       "       [4, 5, 6]])"
      ]
     },
     "execution_count": 22,
     "metadata": {},
     "output_type": "execute_result"
    }
   ],
   "source": [
    "a = np.array([[1,2,3],[4,5,6]])\n",
    "a"
   ]
  },
  {
   "cell_type": "code",
   "execution_count": 32,
   "id": "91b3d04c-ec10-4a9d-adfc-2f891ecc810d",
   "metadata": {},
   "outputs": [
    {
     "data": {
      "text/plain": [
       "array([['a', 'b', 'c', 'm'],\n",
       "       ['d', 'e', 'f', 'n']], dtype='<U1')"
      ]
     },
     "execution_count": 32,
     "metadata": {},
     "output_type": "execute_result"
    }
   ],
   "source": [
    "b = np.array([['a','b','c','m'],['d','e','f','n']])\n",
    "b"
   ]
  },
  {
   "cell_type": "code",
   "execution_count": 33,
   "id": "be54f68b-a7e0-4860-b2b6-77747368e32f",
   "metadata": {},
   "outputs": [
    {
     "ename": "ValueError",
     "evalue": "all the input array dimensions except for the concatenation axis must match exactly, but along dimension 1, the array at index 0 has size 3 and the array at index 1 has size 4",
     "output_type": "error",
     "traceback": [
      "\u001b[0;31m---------------------------------------------------------------------------\u001b[0m",
      "\u001b[0;31mValueError\u001b[0m                                Traceback (most recent call last)",
      "Cell \u001b[0;32mIn[33], line 1\u001b[0m\n\u001b[0;32m----> 1\u001b[0m np\u001b[38;5;241m.\u001b[39mconcatenate([a,b],axis\u001b[38;5;241m=\u001b[39m\u001b[38;5;241m0\u001b[39m)\n",
      "\u001b[0;31mValueError\u001b[0m: all the input array dimensions except for the concatenation axis must match exactly, but along dimension 1, the array at index 0 has size 3 and the array at index 1 has size 4"
     ]
    }
   ],
   "source": [
    "np.concatenate([a,b],axis=0) #列方向"
   ]
  },
  {
   "cell_type": "code",
   "execution_count": 34,
   "id": "3fea7860-a0b1-4cdb-b4bc-77e3a505bb87",
   "metadata": {},
   "outputs": [
    {
     "data": {
      "text/plain": [
       "array([['1', '2', '3', 'a', 'b', 'c', 'm'],\n",
       "       ['4', '5', '6', 'd', 'e', 'f', 'n']], dtype='<U21')"
      ]
     },
     "execution_count": 34,
     "metadata": {},
     "output_type": "execute_result"
    }
   ],
   "source": [
    "np.concatenate([a,b],axis=1) #行方向"
   ]
  },
  {
   "cell_type": "code",
   "execution_count": null,
   "id": "686d4def-e907-499a-8a2f-054e1beb9e9c",
   "metadata": {},
   "outputs": [],
   "source": []
  }
 ],
 "metadata": {
  "kernelspec": {
   "display_name": "Python 3 (ipykernel)",
   "language": "python",
   "name": "python3"
  },
  "language_info": {
   "codemirror_mode": {
    "name": "ipython",
    "version": 3
   },
   "file_extension": ".py",
   "mimetype": "text/x-python",
   "name": "python",
   "nbconvert_exporter": "python",
   "pygments_lexer": "ipython3",
   "version": "3.12.3"
  }
 },
 "nbformat": 4,
 "nbformat_minor": 5
}
