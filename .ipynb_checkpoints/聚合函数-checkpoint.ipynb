{
 "cells": [
  {
   "cell_type": "code",
   "execution_count": null,
   "id": "e74b97a8-3d40-4f93-98e4-96effe136f19",
   "metadata": {},
   "outputs": [],
   "source": [
    "'''\n",
    "聚合函数列表\n",
    "    np.sum()   求和\n",
    "    np.prod()  所有元素相乘\n",
    "    np.mean()  平均值\n",
    "    np.std()   标准差\n",
    "    np.var()   方差\n",
    "    np.median() 中数\n",
    "    np.power()  幂运算\n",
    "    np.sqrt()   开方\n",
    "    np.min()    最小值\n",
    "    np.max()    最大值\n",
    "    np.argmin() 最小值的下标\n",
    "    np.argmax() 最大值的下标\n",
    "    np.inf()    无穷大\n",
    "    np.exp(10)  以e为底的指数\n",
    "    np.log(10)  对数\n",
    "'''"
   ]
  }
 ],
 "metadata": {
  "kernelspec": {
   "display_name": "Python 3 (ipykernel)",
   "language": "python",
   "name": "python3"
  },
  "language_info": {
   "codemirror_mode": {
    "name": "ipython",
    "version": 3
   },
   "file_extension": ".py",
   "mimetype": "text/x-python",
   "name": "python",
   "nbconvert_exporter": "python",
   "pygments_lexer": "ipython3",
   "version": "3.12.3"
  }
 },
 "nbformat": 4,
 "nbformat_minor": 5
}
