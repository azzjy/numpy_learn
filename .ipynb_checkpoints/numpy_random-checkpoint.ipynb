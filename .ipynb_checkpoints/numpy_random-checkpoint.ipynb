{
 "cells": [
  {
   "cell_type": "markdown",
   "id": "3d625079-b3ef-43fe-9933-29a33b9f7506",
   "metadata": {},
   "source": [
    "numpy中的random模块包含了很多方法可以用来产生随机数，对random中的一些常用方法:\n",
    "    seed: 确定随机生成器种子\n",
    "    permutation: 返回一个序列的随机排列或返回一个随机排列的范围\n",
    "    shuffle: 对一个序列就地随机排列\n",
    "    rand: 产生均匀分布的样本值\n",
    "    randint: 该方法有三个参数low，high，size三个参数。默认high是None，如果只有low，那范围就是[0,low]。如果有high，范围就是[low,high]。\n",
    "    random(size=None): 该方法返回[0.0,1.0)范围的随机数\n",
    "    randn(d0,d1,...,dn): randn函数返回一个或一组样本，具有标准正态分布(期望为0，方差为1)。dn表格每个维度，返回值为指定为度的array"
   ]
  }
 ],
 "metadata": {
  "kernelspec": {
   "display_name": "Python 3 (ipykernel)",
   "language": "python",
   "name": "python3"
  },
  "language_info": {
   "codemirror_mode": {
    "name": "ipython",
    "version": 3
   },
   "file_extension": ".py",
   "mimetype": "text/x-python",
   "name": "python",
   "nbconvert_exporter": "python",
   "pygments_lexer": "ipython3",
   "version": "3.12.3"
  }
 },
 "nbformat": 4,
 "nbformat_minor": 5
}
