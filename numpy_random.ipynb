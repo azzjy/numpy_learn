{
 "cells": [
  {
   "cell_type": "markdown",
   "id": "3d625079-b3ef-43fe-9933-29a33b9f7506",
   "metadata": {},
   "source": [
    "numpy中的random模块包含了很多方法可以用来产生随机数，对random中的一些常用方法:\n",
    "    seed: 确定随机生成器种子\n",
    "    permutation: 返回一个序列的随机排列或返回一个随机排列的范围\n",
    "    shuffle: 对一个序列就地随机排列\n",
    "    rand: 产生均匀分布的样本值\n",
    "    randint: 该方法有三个参数low，high，size三个参数。默认high是None，如果只有low，那范围就是[0,low]。如果有high，范围就是[low,high]。\n",
    "    random(size=None): 该方法返回[0.0,1.0)范围的随机数\n",
    "    randn(d0,d1,...,dn): randn函数返回一个或一组样本，具有标准正态分布(期望为0，方差为1)。dn表格每个维度，返回值为指定为度的array"
   ]
  },
  {
   "cell_type": "code",
   "execution_count": 1,
   "id": "5aa54f09-324a-4a42-9d9e-e653c237a53a",
   "metadata": {},
   "outputs": [],
   "source": [
    "import numpy as np"
   ]
  },
  {
   "cell_type": "code",
   "execution_count": 2,
   "id": "aabe31e0-4c5c-4729-b700-d9e071ca5344",
   "metadata": {},
   "outputs": [
    {
     "name": "stdout",
     "output_type": "stream",
     "text": [
      "[0.65470109 0.74215631 0.83110782 0.29141428 0.45807906 0.52627859\n",
      " 0.80898526 0.38502128 0.05955466 0.77327038]\n"
     ]
    },
    {
     "data": {
      "text/plain": [
       "(10,)"
      ]
     },
     "execution_count": 2,
     "metadata": {},
     "output_type": "execute_result"
    }
   ],
   "source": [
    "#左闭右开 下面是生成10个\n",
    "arr = np.random.random(size=10)\n",
    "print(arr)\n",
    "arr.shape"
   ]
  },
  {
   "cell_type": "code",
   "execution_count": 3,
   "id": "2d2b1ca2-867b-45a1-9dd2-a67ea71006d3",
   "metadata": {},
   "outputs": [
    {
     "data": {
      "text/plain": [
       "array([[0.58463563, 0.96336093, 0.3245191 , 0.69559986],\n",
       "       [0.39755797, 0.0803772 , 0.80397745, 0.58816314],\n",
       "       [0.92270359, 0.6307837 , 0.19703728, 0.4373026 ]])"
      ]
     },
     "execution_count": 3,
     "metadata": {},
     "output_type": "execute_result"
    }
   ],
   "source": [
    "#三行四列二维数组 也是从[0,1)\n",
    "arr = np.random.random(size=(3,4))\n",
    "arr"
   ]
  },
  {
   "cell_type": "code",
   "execution_count": 5,
   "id": "c190a64e-599c-4736-a936-613ad8a55122",
   "metadata": {},
   "outputs": [
    {
     "data": {
      "text/plain": [
       "array([8, 6, 9, 8, 6, 9, 5, 6, 7, 8])"
      ]
     },
     "execution_count": 5,
     "metadata": {},
     "output_type": "execute_result"
    }
   ],
   "source": [
    "#生成5-10的10位一维数组\n",
    "arr = np.random.randint(5,10,size=10)\n",
    "arr"
   ]
  },
  {
   "cell_type": "code",
   "execution_count": 10,
   "id": "e43dd14b-4511-4434-a00c-18457545c63c",
   "metadata": {},
   "outputs": [
    {
     "data": {
      "text/plain": [
       "array([9, 9, 5, 6, 5, 5, 6, 7, 6, 9])"
      ]
     },
     "execution_count": 10,
     "metadata": {},
     "output_type": "execute_result"
    }
   ],
   "source": [
    "arr = np.random.randint(5,10,size=10)\n",
    "arr"
   ]
  },
  {
   "cell_type": "code",
   "execution_count": 8,
   "id": "882c7636-845f-46fe-b61c-cbfa20aa6ea8",
   "metadata": {},
   "outputs": [
    {
     "data": {
      "text/plain": [
       "array([[7, 6, 6, 9],\n",
       "       [7, 5, 7, 8],\n",
       "       [6, 5, 8, 6]])"
      ]
     },
     "execution_count": 8,
     "metadata": {},
     "output_type": "execute_result"
    }
   ],
   "source": [
    "arr = np.random.randint(5,10,size=(3,4))\n",
    "arr"
   ]
  },
  {
   "cell_type": "code",
   "execution_count": 12,
   "id": "5b689234-e530-4b09-898e-5ad911e21ee6",
   "metadata": {},
   "outputs": [
    {
     "data": {
      "text/plain": [
       "1.5724247606609127"
      ]
     },
     "execution_count": 12,
     "metadata": {},
     "output_type": "execute_result"
    }
   ],
   "source": [
    "#randn中最后的n代表normal() 标准正态分布\n",
    "x = np.random.randn()\n",
    "x"
   ]
  },
  {
   "cell_type": "code",
   "execution_count": 13,
   "id": "009e90d1-b48d-41dc-adb5-0e020e65b6e5",
   "metadata": {},
   "outputs": [
    {
     "data": {
      "text/plain": [
       "array([[-0.6888802 , -0.77021954, -0.81240227,  0.88312577],\n",
       "       [ 1.8140349 , -0.14983922,  0.15244044,  0.33188505]])"
      ]
     },
     "execution_count": 13,
     "metadata": {},
     "output_type": "execute_result"
    }
   ],
   "source": [
    "x = np.random.randn(2,4)\n",
    "x"
   ]
  },
  {
   "cell_type": "code",
   "execution_count": 14,
   "id": "7c2d3bbe-4e64-4c55-8c30-ba9293ba3b68",
   "metadata": {},
   "outputs": [
    {
     "data": {
      "text/plain": [
       "array([[[-0.08985923,  0.48566656, -1.44077337,  0.88369268],\n",
       "        [ 2.32503965,  1.61654535,  1.0214311 ,  0.91866994],\n",
       "        [ 0.00329721, -1.52559019,  1.78124651,  0.00718957]],\n",
       "\n",
       "       [[-0.34859498, -2.23304864,  0.79827294, -2.15913012],\n",
       "        [ 0.74227796, -1.44132378,  0.34440999, -0.57069801],\n",
       "        [-0.07724853,  0.59194919,  1.19731429, -1.65755379]]])"
      ]
     },
     "execution_count": 14,
     "metadata": {},
     "output_type": "execute_result"
    }
   ],
   "source": [
    "x = np.random.randn(2,3,4)\n",
    "x"
   ]
  },
  {
   "cell_type": "code",
   "execution_count": 15,
   "id": "d1030baf-5bdf-4d64-9ced-5e85e0e51ae1",
   "metadata": {},
   "outputs": [
    {
     "name": "stdout",
     "output_type": "stream",
     "text": [
      "[[[ 0.24574041  6.51867218 10.93023471]\n",
      "  [-4.6391437  -0.49136544  8.49822198]]\n",
      "\n",
      " [[ 0.9672063   2.17086964  2.5206908 ]\n",
      "  [-2.84519708  7.20655656  5.28176173]]]\n"
     ]
    }
   ],
   "source": [
    "#np.random.noraml() 标准正态(高斯分布) 指定方差。 loc:期望 scale:方差 size:形状\n",
    "print(np.random.normal(loc=3,scale=4,size=(2,2,3)))"
   ]
  },
  {
   "cell_type": "code",
   "execution_count": 34,
   "id": "54015144-56ac-4b24-b998-0d6588611854",
   "metadata": {},
   "outputs": [],
   "source": [
    "#seed 确定随机生成器的种子，随机种子是固定的，那么下一个随机分配是固定的\n",
    "s = np.random.seed(42)"
   ]
  },
  {
   "cell_type": "code",
   "execution_count": 35,
   "id": "67ccf8c6-dda1-45ca-b2a8-f1ff2fc47c29",
   "metadata": {},
   "outputs": [
    {
     "data": {
      "text/plain": [
       "0.4967141530112327"
      ]
     },
     "execution_count": 35,
     "metadata": {},
     "output_type": "execute_result"
    }
   ],
   "source": [
    "np.random.randn()"
   ]
  },
  {
   "cell_type": "code",
   "execution_count": 38,
   "id": "f0e5505f-43c9-4a01-8fe0-d7c7b8e2532b",
   "metadata": {},
   "outputs": [
    {
     "data": {
      "text/plain": [
       "array([1, 2, 3, 4, 5])"
      ]
     },
     "execution_count": 38,
     "metadata": {},
     "output_type": "execute_result"
    }
   ],
   "source": [
    "arr = np.array([1,2,3,4,5])\n",
    "arr"
   ]
  },
  {
   "cell_type": "code",
   "execution_count": 39,
   "id": "9c7f03c4-1511-4de4-8c52-c6e4ff05a05d",
   "metadata": {},
   "outputs": [
    {
     "data": {
      "text/plain": [
       "array([5, 1, 4, 3, 2])"
      ]
     },
     "execution_count": 39,
     "metadata": {},
     "output_type": "execute_result"
    }
   ],
   "source": [
    "#对一个序列就地随机排序\n",
    "np.random.shuffle(arr)\n",
    "arr"
   ]
  },
  {
   "cell_type": "code",
   "execution_count": null,
   "id": "2a19f943-c40b-4d11-a056-d7f5fa6064e9",
   "metadata": {},
   "outputs": [],
   "source": []
  }
 ],
 "metadata": {
  "kernelspec": {
   "display_name": "Python 3 (ipykernel)",
   "language": "python",
   "name": "python3"
  },
  "language_info": {
   "codemirror_mode": {
    "name": "ipython",
    "version": 3
   },
   "file_extension": ".py",
   "mimetype": "text/x-python",
   "name": "python",
   "nbconvert_exporter": "python",
   "pygments_lexer": "ipython3",
   "version": "3.12.3"
  }
 },
 "nbformat": 4,
 "nbformat_minor": 5
}
