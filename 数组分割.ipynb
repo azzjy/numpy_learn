{
 "cells": [
  {
   "cell_type": "code",
   "execution_count": 1,
   "id": "e23cce9c-2cd7-47c4-ba16-1a71a411fc69",
   "metadata": {},
   "outputs": [
    {
     "data": {
      "text/plain": [
       "'\\nnumpy.split(ary,indices_or_sections,axis)\\narr: 被分割的数组\\nindices_or_sections: 如果是一个整数，就用该数平均切分，如果是一个数组，为沿轴切分的位置。\\naxis:沿着哪个维度进行切分，默认为0，横向切分，为1时，纵向切分\\n'"
      ]
     },
     "execution_count": 1,
     "metadata": {},
     "output_type": "execute_result"
    }
   ],
   "source": [
    "'''\n",
    "numpy.split(ary,indices_or_sections,axis)\n",
    "arr: 被分割的数组\n",
    "indices_or_sections: 如果是一个整数，就用该数平均切分，如果是一个数组，为沿轴切分的位置。\n",
    "axis:沿着哪个维度进行切分，默认为0，横向切分，为1时，纵向切分\n",
    "'''"
   ]
  },
  {
   "cell_type": "code",
   "execution_count": 2,
   "id": "5848924d-98c6-48b2-b8c4-69b1ddc16459",
   "metadata": {},
   "outputs": [],
   "source": [
    "import numpy as np"
   ]
  },
  {
   "cell_type": "code",
   "execution_count": 3,
   "id": "e2e10c09-52d2-40b8-b052-3d249c7597e7",
   "metadata": {},
   "outputs": [
    {
     "data": {
      "text/plain": [
       "array([ 0,  1,  2,  3,  4,  5,  6,  7,  8,  9, 10, 11])"
      ]
     },
     "execution_count": 3,
     "metadata": {},
     "output_type": "execute_result"
    }
   ],
   "source": [
    "arr = np.arange(12)\n",
    "arr"
   ]
  },
  {
   "cell_type": "code",
   "execution_count": 5,
   "id": "b9853375-a062-4409-b9b0-766917d60dc1",
   "metadata": {},
   "outputs": [
    {
     "data": {
      "text/plain": [
       "[array([0, 1, 2]), array([3, 4, 5]), array([6, 7, 8]), array([ 9, 10, 11])]"
      ]
     },
     "execution_count": 5,
     "metadata": {},
     "output_type": "execute_result"
    }
   ],
   "source": [
    "np.split(arr,4)"
   ]
  },
  {
   "cell_type": "code",
   "execution_count": 26,
   "id": "094cd1cc-128e-4e28-b8af-50efdba071fc",
   "metadata": {},
   "outputs": [
    {
     "data": {
      "text/plain": [
       "[array([0, 1, 2]), array([3, 4]), array([ 5,  6,  7,  8,  9, 10, 11])]"
      ]
     },
     "execution_count": 26,
     "metadata": {},
     "output_type": "execute_result"
    }
   ],
   "source": [
    "#根据索引号切割\n",
    "np.split(arr,[3,5])"
   ]
  },
  {
   "cell_type": "code",
   "execution_count": 27,
   "id": "1e260c2a-91e8-46bc-a75d-73492a23c1a6",
   "metadata": {},
   "outputs": [
    {
     "data": {
      "text/plain": [
       "array([[ 1,  2,  3],\n",
       "       [ 4,  5,  6],\n",
       "       [11, 12, 13],\n",
       "       [14, 15, 16]])"
      ]
     },
     "execution_count": 27,
     "metadata": {},
     "output_type": "execute_result"
    }
   ],
   "source": [
    "a = np.array([[1,2,3],[4,5,6],[11,12,13],[14,15,16]])\n",
    "a"
   ]
  },
  {
   "cell_type": "code",
   "execution_count": 28,
   "id": "72a27694-8b59-4ab3-a26b-9c8c2250e05c",
   "metadata": {},
   "outputs": [
    {
     "data": {
      "text/plain": [
       "[array([[1, 2, 3],\n",
       "        [4, 5, 6]]),\n",
       " array([[11, 12, 13],\n",
       "        [14, 15, 16]])]"
      ]
     },
     "execution_count": 28,
     "metadata": {},
     "output_type": "execute_result"
    }
   ],
   "source": [
    "#2代表切两份 axis代表横着\n",
    "np.split(a,2,axis=0)"
   ]
  },
  {
   "cell_type": "code",
   "execution_count": 29,
   "id": "0fa4bf9f-f1fa-4754-9b6a-76ff6361de91",
   "metadata": {},
   "outputs": [
    {
     "data": {
      "text/plain": [
       "array([[ 1,  2,  3,  4],\n",
       "       [ 5,  6, 11, 12],\n",
       "       [13, 14, 15, 16]])"
      ]
     },
     "execution_count": 29,
     "metadata": {},
     "output_type": "execute_result"
    }
   ],
   "source": [
    "a.reshape(3,4)"
   ]
  },
  {
   "cell_type": "code",
   "execution_count": 32,
   "id": "11f37aa7-b1e6-485b-b1b5-f8de5de4563b",
   "metadata": {},
   "outputs": [
    {
     "data": {
      "text/plain": [
       "[array([[ 1,  2],\n",
       "        [ 4,  5],\n",
       "        [11, 12],\n",
       "        [14, 15]]),\n",
       " array([[ 3],\n",
       "        [ 6],\n",
       "        [13],\n",
       "        [16]])]"
      ]
     },
     "execution_count": 32,
     "metadata": {},
     "output_type": "execute_result"
    }
   ],
   "source": [
    "#根据位置分割\n",
    "np.split(a,[2],axis=1)"
   ]
  },
  {
   "cell_type": "code",
   "execution_count": 33,
   "id": "baf873d7-e997-4f8f-81d2-c0baf3a53583",
   "metadata": {},
   "outputs": [
    {
     "data": {
      "text/plain": [
       "'\\n二维转置\\ntranspose()\\n'"
      ]
     },
     "execution_count": 33,
     "metadata": {},
     "output_type": "execute_result"
    }
   ],
   "source": [
    "'''\n",
    "二维转置\n",
    "transpose()\n",
    "'''"
   ]
  },
  {
   "cell_type": "code",
   "execution_count": 35,
   "id": "0f7045d1-f10b-44e0-9c08-af1f1fa3e316",
   "metadata": {},
   "outputs": [
    {
     "data": {
      "text/plain": [
       "array([[ 1,  2,  3,  4,  5,  6],\n",
       "       [ 7,  8,  9, 10, 11, 12]])"
      ]
     },
     "execution_count": 35,
     "metadata": {},
     "output_type": "execute_result"
    }
   ],
   "source": [
    "a = np.arange(1,13).reshape(2,6)\n",
    "a"
   ]
  },
  {
   "cell_type": "code",
   "execution_count": 36,
   "id": "bf101e37-5dbe-4d0e-a816-80860066764f",
   "metadata": {},
   "outputs": [
    {
     "name": "stdout",
     "output_type": "stream",
     "text": [
      "置换后数组[[ 1  2  3  4  5  6]\n",
      " [ 7  8  9 10 11 12]]\n"
     ]
    }
   ],
   "source": [
    "a.transpose()\n",
    "print(f'置换后数组{a}')"
   ]
  },
  {
   "cell_type": "code",
   "execution_count": 40,
   "id": "ecedba00-9f6a-43b8-bf70-87938e781dac",
   "metadata": {},
   "outputs": [
    {
     "data": {
      "text/plain": [
       "(1, 3, 3, 4)"
      ]
     },
     "execution_count": 40,
     "metadata": {},
     "output_type": "execute_result"
    }
   ],
   "source": [
    "#多维数组置换\n",
    "arr = np.arange(1,37).reshape(1,3,3,4)\n",
    "arr.shape"
   ]
  },
  {
   "cell_type": "code",
   "execution_count": null,
   "id": "1fa8e74f-3663-46b4-a697-f5a3c9f39306",
   "metadata": {},
   "outputs": [],
   "source": [
    "#将1，3，3，4转换为3，3，4，1\n",
    "np.transpose(arr,[1,2,3,0]).sp"
   ]
  }
 ],
 "metadata": {
  "kernelspec": {
   "display_name": "Python 3 (ipykernel)",
   "language": "python",
   "name": "python3"
  },
  "language_info": {
   "codemirror_mode": {
    "name": "ipython",
    "version": 3
   },
   "file_extension": ".py",
   "mimetype": "text/x-python",
   "name": "python",
   "nbconvert_exporter": "python",
   "pygments_lexer": "ipython3",
   "version": "3.12.3"
  }
 },
 "nbformat": 4,
 "nbformat_minor": 5
}
