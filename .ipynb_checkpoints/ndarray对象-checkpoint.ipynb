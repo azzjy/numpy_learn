{
 "cells": [
  {
   "cell_type": "code",
   "execution_count": 1,
   "id": "74bf8050-8248-4f18-930f-b918b0c0a204",
   "metadata": {},
   "outputs": [
    {
     "data": {
      "text/plain": [
       "'\\nNumpy最重要的一个特点是其N维数组对象ndarray,它是一系列同类型数据的集合,以0下标为开始进行集合中元素的索引。\\nndarray 对象是用于存放同类型元素的多维数组\\nndarray 中的每个元素在内存中都有相同存储大小的区域\\nndarray 内部由以下内容组成:\\n    一个指向数据(内存或内存映射文件中的一块数据)的指针\\n    数据类型或dtype,描述在数组中的固定大小值的格子\\n    一个表示数组形状(shape)的元祖，表示各维度大小的元祖\\nNumpy的数组中比较重要的ndarray对象属性有:\\n    ndarray.ndim   秩，即轴的数量或维度的数量\\n    ndarray.shape  数组的维度,对于矩阵,n行m列\\n    ndarray.size   数组元素的总个数,相当于 .shape中的n*m的值\\n    ndarray.dtype  ndarray对象的元素类型\\n    ndarray.itemsize  ndarray对象中每个元素的大小，以字节为单位\\n    ndarray.flags  ndarray对象的内存信息\\n    ndarray.real   ndarray元素的实部\\n    ndarray.imag   ndarray元素的虚部\\n    ndarray.data   包含实际数组元素的缓冲区,由于一般通过数组的索引获取元素,所以通常不需要使用这个属性。\\n'"
      ]
     },
     "execution_count": 1,
     "metadata": {},
     "output_type": "execute_result"
    }
   ],
   "source": [
    "'''\n",
    "Numpy最重要的一个特点是其N维数组对象ndarray,它是一系列同类型数据的集合,以0下标为开始进行集合中元素的索引。\n",
    "ndarray 对象是用于存放同类型元素的多维数组\n",
    "ndarray 中的每个元素在内存中都有相同存储大小的区域\n",
    "ndarray 内部由以下内容组成:\n",
    "    一个指向数据(内存或内存映射文件中的一块数据)的指针\n",
    "    数据类型或dtype,描述在数组中的固定大小值的格子\n",
    "    一个表示数组形状(shape)的元祖，表示各维度大小的元祖\n",
    "Numpy的数组中比较重要的ndarray对象属性有:\n",
    "    ndarray.ndim   秩，即轴的数量或维度的数量\n",
    "    ndarray.shape  数组的维度,对于矩阵,n行m列\n",
    "    ndarray.size   数组元素的总个数,相当于 .shape中的n*m的值\n",
    "    ndarray.dtype  ndarray对象的元素类型\n",
    "    ndarray.itemsize  ndarray对象中每个元素的大小，以字节为单位\n",
    "    ndarray.flags  ndarray对象的内存信息\n",
    "    ndarray.real   ndarray元素的实部\n",
    "    ndarray.imag   ndarray元素的虚部\n",
    "    ndarray.data   包含实际数组元素的缓冲区,由于一般通过数组的索引获取元素,所以通常不需要使用这个属性。\n",
    "'''"
   ]
  },
  {
   "cell_type": "code",
   "execution_count": 2,
   "id": "e5c6a18a-72d9-463a-a802-5514791484bf",
   "metadata": {},
   "outputs": [],
   "source": [
    "import numpy as np"
   ]
  },
  {
   "cell_type": "code",
   "execution_count": 6,
   "id": "e95554c8-30a9-4595-ac0a-a03bac98be40",
   "metadata": {},
   "outputs": [
    {
     "data": {
      "text/plain": [
       "array([6, 3, 7, 2, 2, 3])"
      ]
     },
     "execution_count": 6,
     "metadata": {},
     "output_type": "execute_result"
    }
   ],
   "source": [
    "arr = np.random.randint(10,size=6)\n",
    "arr"
   ]
  },
  {
   "cell_type": "code",
   "execution_count": 7,
   "id": "43367289-7da3-4ef6-87b3-f2bf153c5f84",
   "metadata": {},
   "outputs": [
    {
     "data": {
      "text/plain": [
       "1"
      ]
     },
     "execution_count": 7,
     "metadata": {},
     "output_type": "execute_result"
    }
   ],
   "source": [
    "arr.ndim"
   ]
  },
  {
   "cell_type": "code",
   "execution_count": 8,
   "id": "6bee25e8-bdfb-4e49-b458-a4ec483ed873",
   "metadata": {},
   "outputs": [
    {
     "data": {
      "text/plain": [
       "(6,)"
      ]
     },
     "execution_count": 8,
     "metadata": {},
     "output_type": "execute_result"
    }
   ],
   "source": [
    "arr.shape"
   ]
  },
  {
   "cell_type": "code",
   "execution_count": 9,
   "id": "002c8b0b-66de-444b-87fe-02c7dce89364",
   "metadata": {},
   "outputs": [
    {
     "data": {
      "text/plain": [
       "6"
      ]
     },
     "execution_count": 9,
     "metadata": {},
     "output_type": "execute_result"
    }
   ],
   "source": [
    "arr.size"
   ]
  },
  {
   "cell_type": "code",
   "execution_count": 10,
   "id": "14d2e8cc-2da7-4370-b8f3-8ad4ce7b3248",
   "metadata": {},
   "outputs": [
    {
     "data": {
      "text/plain": [
       "dtype('int64')"
      ]
     },
     "execution_count": 10,
     "metadata": {},
     "output_type": "execute_result"
    }
   ],
   "source": [
    "arr.dtype"
   ]
  },
  {
   "cell_type": "code",
   "execution_count": 19,
   "id": "01fb4407-99d8-480c-bc93-58aa1eb0cba3",
   "metadata": {},
   "outputs": [
    {
     "name": "stdout",
     "output_type": "stream",
     "text": [
      "[0. 0. 0. 0. 0. 0. 0. 0. 0. 0.]\n",
      "[[0. 0. 0. 0.]\n",
      " [0. 0. 0. 0.]\n",
      " [0. 0. 0. 0.]]\n"
     ]
    }
   ],
   "source": [
    "'''\n",
    "ndarray数组除了可以使用底层ndarray构造器来创建外,也可以通过一以下几种方式\n",
    "    zeros创建指定大小的数组，数组元素以0来填充:\n",
    "    numpy.zeros(shape,dtype = float,order='C')\n",
    "'''\n",
    "x = np.zeros(10)\n",
    "print(x)\n",
    "y = np.zeros((3,4))\n",
    "print(y)"
   ]
  },
  {
   "cell_type": "code",
   "execution_count": 17,
   "id": "30a067ef-4e81-4280-866b-d68bc9c180d1",
   "metadata": {},
   "outputs": [
    {
     "name": "stdout",
     "output_type": "stream",
     "text": [
      "[0 0 0 0 0]\n"
     ]
    }
   ],
   "source": [
    "x = np.zeros(5,dtype=int)\n",
    "print(x)"
   ]
  },
  {
   "cell_type": "code",
   "execution_count": 22,
   "id": "3bdfc57a-0e28-4be8-8266-853f1b6603d9",
   "metadata": {},
   "outputs": [
    {
     "name": "stdout",
     "output_type": "stream",
     "text": [
      "[1. 1. 1. 1. 1.]\n",
      "[[1 1 1]\n",
      " [1 1 1]]\n"
     ]
    }
   ],
   "source": [
    "'''\n",
    "numpy.ones()创建的都是1\n",
    "'''\n",
    "x = np.ones(5)\n",
    "print(x)\n",
    "x = np.ones((2,3),dtype=int)\n",
    "print(x)"
   ]
  },
  {
   "cell_type": "code",
   "execution_count": 23,
   "id": "d522d653-f277-4a79-883d-501d6d79f2ee",
   "metadata": {},
   "outputs": [
    {
     "name": "stdout",
     "output_type": "stream",
     "text": [
      "[[1. 1. 1.]\n",
      " [1. 1. 1.]]\n"
     ]
    }
   ],
   "source": [
    "'''\n",
    "创建空的数组\n",
    "numpy.empty(shape,dtype=float,order='C')用来创建一个指定形状(shape),数据类型(dtype)且未初始化的数组，里面的元素的值是之前内存的值\n",
    "\n",
    "shape:数组的形状\n",
    "dtype:数据类型:可选\n",
    "order:有\"C\"和\"F\"两个选项，分别代表，行优先河列优先，在计算机内存中的存储元素的顺序。\n",
    "'''\n",
    "x = np.empty((2,3))\n",
    "print(x)"
   ]
  },
  {
   "cell_type": "code",
   "execution_count": 28,
   "id": "bfe9abce-8301-4805-977a-320c287bc403",
   "metadata": {},
   "outputs": [
    {
     "data": {
      "text/plain": [
       "array([ 0.        ,  3.33333333,  6.66666667, 10.        ])"
      ]
     },
     "execution_count": 28,
     "metadata": {},
     "output_type": "execute_result"
    }
   ],
   "source": [
    "'''\n",
    "numpy.linespace(start,stop,num=50,endpoint=True,retstep=False,dtype=None) 用于创建一个一维数组，数组是一个等差数列构成的。\n",
    "start: 序列的起始值\n",
    "stop序列的终止值，如果endpoint为true，该值包含于数列中\n",
    "num要生成的等步长的样本数量，默认为50\n",
    "endpoint 该值为True时，数列中中包含stop值，反之不包含，默认是True\n",
    "retstep如果为True时，生成的数组中会显示间距，反之不显示\n",
    "dtype ndarray的数据类型\n",
    "'''\n",
    "np.linspace(0,10,4)"
   ]
  },
  {
   "cell_type": "code",
   "execution_count": 29,
   "id": "e264faab-35bb-4991-9b7a-6e799d09b9b9",
   "metadata": {},
   "outputs": [
    {
     "data": {
      "text/plain": [
       "array([0. , 2.5, 5. , 7.5])"
      ]
     },
     "execution_count": 29,
     "metadata": {},
     "output_type": "execute_result"
    }
   ],
   "source": [
    "np.linspace(0,10,4,endpoint=False)"
   ]
  },
  {
   "cell_type": "code",
   "execution_count": 30,
   "id": "f8fdb19d-62f5-49bc-9b9f-18414d365b29",
   "metadata": {},
   "outputs": [
    {
     "data": {
      "text/plain": [
       "(array([0. , 2.5, 5. , 7.5]), 2.5)"
      ]
     },
     "execution_count": 30,
     "metadata": {},
     "output_type": "execute_result"
    }
   ],
   "source": [
    "np.linspace(0,10,4,endpoint=False,retstep=True)"
   ]
  },
  {
   "cell_type": "code",
   "execution_count": 33,
   "id": "63bf4345-9d34-4d2a-98e3-91ec4e482f51",
   "metadata": {},
   "outputs": [
    {
     "data": {
      "text/plain": [
       "array([1.e+00, 1.e+09])"
      ]
     },
     "execution_count": 33,
     "metadata": {},
     "output_type": "execute_result"
    }
   ],
   "source": [
    "'''\n",
    "logspace()创建等比数组\n",
    "'''\n",
    "x = np.logspace(0,9,2)\n",
    "x"
   ]
  },
  {
   "cell_type": "code",
   "execution_count": 34,
   "id": "da45f764-123a-4a7f-ba5b-63bc14f27f14",
   "metadata": {},
   "outputs": [
    {
     "data": {
      "text/plain": [
       "array([[1, 2, 3],\n",
       "       [4, 5, 6]])"
      ]
     },
     "execution_count": 34,
     "metadata": {},
     "output_type": "execute_result"
    }
   ],
   "source": [
    "arr = np.array([[1,2,3],[4,5,6]])\n",
    "arr"
   ]
  },
  {
   "cell_type": "code",
   "execution_count": 36,
   "id": "e1253457-01b1-4434-b6c2-623a96d02b4b",
   "metadata": {},
   "outputs": [
    {
     "data": {
      "text/plain": [
       "array([[0, 0, 0],\n",
       "       [0, 0, 0]])"
      ]
     },
     "execution_count": 36,
     "metadata": {},
     "output_type": "execute_result"
    }
   ],
   "source": [
    "'''\n",
    "zeros_like(arr)\n",
    "结构像哪个数组，但是里面都是0\n",
    "'''\n",
    "np.zeros_like(arr)\n"
   ]
  },
  {
   "cell_type": "code",
   "execution_count": 37,
   "id": "6de57707-6135-4559-b27e-33b24b98fa14",
   "metadata": {},
   "outputs": [
    {
     "data": {
      "text/plain": [
       "array([[1, 1, 1],\n",
       "       [1, 1, 1]])"
      ]
     },
     "execution_count": 37,
     "metadata": {},
     "output_type": "execute_result"
    }
   ],
   "source": [
    "np.ones_like(arr)"
   ]
  },
  {
   "cell_type": "code",
   "execution_count": null,
   "id": "6c8c277b-c762-4c75-ae77-a6d2d8690f8b",
   "metadata": {},
   "outputs": [],
   "source": []
  }
 ],
 "metadata": {
  "kernelspec": {
   "display_name": "Python 3 (ipykernel)",
   "language": "python",
   "name": "python3"
  },
  "language_info": {
   "codemirror_mode": {
    "name": "ipython",
    "version": 3
   },
   "file_extension": ".py",
   "mimetype": "text/x-python",
   "name": "python",
   "nbconvert_exporter": "python",
   "pygments_lexer": "ipython3",
   "version": "3.12.3"
  }
 },
 "nbformat": 4,
 "nbformat_minor": 5
}
