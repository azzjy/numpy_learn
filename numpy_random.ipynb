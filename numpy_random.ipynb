{
 "cells": [
  {
   "cell_type": "markdown",
   "id": "3d625079-b3ef-43fe-9933-29a33b9f7506",
   "metadata": {},
   "source": [
    "numpy中的random模块包含了很多方法可以用来产生随机数，对random中的一些常用方法:\n",
    "    seed: 确定随机生成器种子\n",
    "    permutation: 返回一个序列的随机排列或返回一个随机排列的范围\n",
    "    shuffle: 对一个序列就地随机排列\n",
    "    rand: 产生均匀分布的样本值\n",
    "    randint: 该方法有三个参数low，high，size三个参数。默认high是None，如果只有low，那范围就是[0,low]。如果有high，范围就是[low,high]。\n",
    "    random(size=None): 该方法返回[0.0,1.0)范围的随机数\n",
    "    randn(d0,d1,...,dn): randn函数返回一个或一组样本，具有标准正态分布(期望为0，方差为1)。dn表格每个维度，返回值为指定为度的array"
   ]
  },
  {
   "cell_type": "code",
   "execution_count": 1,
   "id": "5aa54f09-324a-4a42-9d9e-e653c237a53a",
   "metadata": {},
   "outputs": [],
   "source": [
    "import numpy as np"
   ]
  },
  {
   "cell_type": "code",
   "execution_count": 5,
   "id": "aabe31e0-4c5c-4729-b700-d9e071ca5344",
   "metadata": {},
   "outputs": [
    {
     "name": "stdout",
     "output_type": "stream",
     "text": [
      "[0.47739428 0.24032819 0.18247512 0.12457796 0.79989738 0.54829857\n",
      " 0.93717581 0.85462001 0.67105928 0.1128256 ]\n"
     ]
    },
    {
     "data": {
      "text/plain": [
       "(10,)"
      ]
     },
     "execution_count": 5,
     "metadata": {},
     "output_type": "execute_result"
    }
   ],
   "source": [
    "arr = np.random.random(size=10)\n",
    "print(arr)\n",
    "arr.shape"
   ]
  },
  {
   "cell_type": "code",
   "execution_count": 6,
   "id": "2d2b1ca2-867b-45a1-9dd2-a67ea71006d3",
   "metadata": {},
   "outputs": [
    {
     "data": {
      "text/plain": [
       "array([[0.39566311, 0.17012695, 0.92471125, 0.81463141],\n",
       "       [0.87143419, 0.53372436, 0.88451515, 0.77185884],\n",
       "       [0.7930425 , 0.28095968, 0.08546511, 0.01363232]])"
      ]
     },
     "execution_count": 6,
     "metadata": {},
     "output_type": "execute_result"
    }
   ],
   "source": [
    "arr = np.random.random(size=(3,4))\n",
    "arr"
   ]
  },
  {
   "cell_type": "code",
   "execution_count": 9,
   "id": "c190a64e-599c-4736-a936-613ad8a55122",
   "metadata": {},
   "outputs": [
    {
     "data": {
      "text/plain": [
       "array([0, 4, 9, 2, 3, 4, 2, 6, 7, 2])"
      ]
     },
     "execution_count": 9,
     "metadata": {},
     "output_type": "execute_result"
    }
   ],
   "source": [
    "arr = np.random.randint(10,size=10)\n",
    "arr"
   ]
  },
  {
   "cell_type": "code",
   "execution_count": 10,
   "id": "e43dd14b-4511-4434-a00c-18457545c63c",
   "metadata": {},
   "outputs": [
    {
     "data": {
      "text/plain": [
       "array([9, 9, 5, 6, 5, 5, 6, 7, 6, 9])"
      ]
     },
     "execution_count": 10,
     "metadata": {},
     "output_type": "execute_result"
    }
   ],
   "source": [
    "arr = np.random.randint(5,10,size=10)\n",
    "arr"
   ]
  },
  {
   "cell_type": "code",
   "execution_count": 11,
   "id": "882c7636-845f-46fe-b61c-cbfa20aa6ea8",
   "metadata": {},
   "outputs": [
    {
     "data": {
      "text/plain": [
       "array([[5, 9, 5, 8],\n",
       "       [9, 6, 9, 8],\n",
       "       [6, 5, 6, 9]])"
      ]
     },
     "execution_count": 11,
     "metadata": {},
     "output_type": "execute_result"
    }
   ],
   "source": [
    "arr = np.random.randint(5,10,size=(3,4))\n",
    "arr"
   ]
  },
  {
   "cell_type": "code",
   "execution_count": 14,
   "id": "5b689234-e530-4b09-898e-5ad911e21ee6",
   "metadata": {},
   "outputs": [
    {
     "data": {
      "text/plain": [
       "0.4760964644357887"
      ]
     },
     "execution_count": 14,
     "metadata": {},
     "output_type": "execute_result"
    }
   ],
   "source": [
    "x = np.random.randn()\n",
    "x"
   ]
  },
  {
   "cell_type": "code",
   "execution_count": 17,
   "id": "009e90d1-b48d-41dc-adb5-0e020e65b6e5",
   "metadata": {},
   "outputs": [
    {
     "data": {
      "text/plain": [
       "array([[-0.70012098,  0.44383653, -0.79781192,  0.25512385],\n",
       "       [ 0.53826553,  0.68461125,  1.48326619,  0.33383855]])"
      ]
     },
     "execution_count": 17,
     "metadata": {},
     "output_type": "execute_result"
    }
   ],
   "source": [
    "x = np.random.randn(2,4)\n",
    "x"
   ]
  },
  {
   "cell_type": "code",
   "execution_count": 18,
   "id": "7c2d3bbe-4e64-4c55-8c30-ba9293ba3b68",
   "metadata": {},
   "outputs": [
    {
     "data": {
      "text/plain": [
       "array([[[ 0.14757068,  0.40936771,  0.15764812, -1.082334  ],\n",
       "        [ 0.21768418,  1.50552803, -0.98172113, -1.31659003],\n",
       "        [ 0.59599783, -0.21261257, -0.45550873,  0.46216689]],\n",
       "\n",
       "       [[-0.15486602, -1.30050697,  0.31788619, -0.71540444],\n",
       "        [ 0.04688375,  1.55074676, -0.87846067,  0.45678695],\n",
       "        [-0.97610983, -1.13149406,  1.94492169, -0.0653399 ]]])"
      ]
     },
     "execution_count": 18,
     "metadata": {},
     "output_type": "execute_result"
    }
   ],
   "source": [
    "x = np.random.randn(2,3,4)\n",
    "x"
   ]
  },
  {
   "cell_type": "code",
   "execution_count": 36,
   "id": "54015144-56ac-4b24-b998-0d6588611854",
   "metadata": {},
   "outputs": [],
   "source": [
    "s = np.random.seed(42)"
   ]
  },
  {
   "cell_type": "code",
   "execution_count": 37,
   "id": "67ccf8c6-dda1-45ca-b2a8-f1ff2fc47c29",
   "metadata": {},
   "outputs": [
    {
     "data": {
      "text/plain": [
       "0.4967141530112327"
      ]
     },
     "execution_count": 37,
     "metadata": {},
     "output_type": "execute_result"
    }
   ],
   "source": [
    "np.random.randn()"
   ]
  },
  {
   "cell_type": "code",
   "execution_count": 38,
   "id": "f0e5505f-43c9-4a01-8fe0-d7c7b8e2532b",
   "metadata": {},
   "outputs": [
    {
     "data": {
      "text/plain": [
       "array([1, 2, 3, 4, 5])"
      ]
     },
     "execution_count": 38,
     "metadata": {},
     "output_type": "execute_result"
    }
   ],
   "source": [
    "arr = np.array([1,2,3,4,5])\n",
    "arr"
   ]
  },
  {
   "cell_type": "code",
   "execution_count": 44,
   "id": "9c7f03c4-1511-4de4-8c52-c6e4ff05a05d",
   "metadata": {},
   "outputs": [
    {
     "data": {
      "text/plain": [
       "array([4, 1, 5, 2, 3])"
      ]
     },
     "execution_count": 44,
     "metadata": {},
     "output_type": "execute_result"
    }
   ],
   "source": [
    "np.random.shuffle(arr)\n",
    "arr"
   ]
  },
  {
   "cell_type": "code",
   "execution_count": null,
   "id": "2a19f943-c40b-4d11-a056-d7f5fa6064e9",
   "metadata": {},
   "outputs": [],
   "source": []
  }
 ],
 "metadata": {
  "kernelspec": {
   "display_name": "Python 3 (ipykernel)",
   "language": "python",
   "name": "python3"
  },
  "language_info": {
   "codemirror_mode": {
    "name": "ipython",
    "version": 3
   },
   "file_extension": ".py",
   "mimetype": "text/x-python",
   "name": "python",
   "nbconvert_exporter": "python",
   "pygments_lexer": "ipython3",
   "version": "3.12.3"
  }
 },
 "nbformat": 4,
 "nbformat_minor": 5
}
