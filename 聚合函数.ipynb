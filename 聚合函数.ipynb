{
 "cells": [
  {
   "cell_type": "code",
   "execution_count": 1,
   "id": "e74b97a8-3d40-4f93-98e4-96effe136f19",
   "metadata": {},
   "outputs": [
    {
     "data": {
      "text/plain": [
       "'\\n聚合函数列表\\n    np.sum()   求和\\n    np.prod()  所有元素相乘\\n    np.mean()  平均值\\n    np.std()   标准差\\n    np.var()   方差\\n    np.median() 中数\\n    np.power()  幂运算\\n    np.sqrt()   开方\\n    np.min()    最小值\\n    np.max()    最大值\\n    np.argmin() 最小值的下标\\n    np.argmax() 最大值的下标\\n    np.inf()    无穷大\\n    np.exp(10)  以e为底的指数\\n    np.log(10)  对数\\n'"
      ]
     },
     "execution_count": 1,
     "metadata": {},
     "output_type": "execute_result"
    }
   ],
   "source": [
    "'''\n",
    "聚合函数列表\n",
    "    np.sum()   求和\n",
    "    np.prod()  所有元素相乘\n",
    "    np.mean()  平均值\n",
    "    np.std()   标准差\n",
    "    np.var()   方差\n",
    "    np.median() 中数\n",
    "    np.power()  幂运算\n",
    "    np.sqrt()   开方\n",
    "    np.min()    最小值\n",
    "    np.max()    最大值\n",
    "    np.argmin() 最小值的下标\n",
    "    np.argmax() 最大值的下标\n",
    "    np.inf()    无穷大\n",
    "    np.exp(10)  以e为底的指数\n",
    "    np.log(10)  对数\n",
    "'''"
   ]
  },
  {
   "cell_type": "code",
   "execution_count": 2,
   "id": "05b7f91e-3507-4fab-a6f3-2bea5bf86b9c",
   "metadata": {},
   "outputs": [],
   "source": [
    "import numpy as np"
   ]
  },
  {
   "cell_type": "code",
   "execution_count": 5,
   "id": "ced33aa0-1bfa-42d8-bfbb-11b52f668694",
   "metadata": {},
   "outputs": [
    {
     "data": {
      "text/plain": [
       "array([1, 2, 3, 5, 5])"
      ]
     },
     "execution_count": 5,
     "metadata": {},
     "output_type": "execute_result"
    }
   ],
   "source": [
    "temp = np.array([1,2,3,5,5])\n",
    "temp"
   ]
  },
  {
   "cell_type": "code",
   "execution_count": 6,
   "id": "e96ca143-94e2-482c-88b6-b667a869aad7",
   "metadata": {},
   "outputs": [
    {
     "data": {
      "text/plain": [
       "16"
      ]
     },
     "execution_count": 6,
     "metadata": {},
     "output_type": "execute_result"
    }
   ],
   "source": [
    "np.sum(temp)"
   ]
  },
  {
   "cell_type": "code",
   "execution_count": 7,
   "id": "df4311ae-e8a7-458a-bb52-24400cf47108",
   "metadata": {},
   "outputs": [
    {
     "data": {
      "text/plain": [
       "150"
      ]
     },
     "execution_count": 7,
     "metadata": {},
     "output_type": "execute_result"
    }
   ],
   "source": [
    "np.prod(temp)"
   ]
  },
  {
   "cell_type": "code",
   "execution_count": 8,
   "id": "5e39d52b-29c8-4f52-ad97-4d14fef4762d",
   "metadata": {},
   "outputs": [
    {
     "data": {
      "text/plain": [
       "3.2"
      ]
     },
     "execution_count": 8,
     "metadata": {},
     "output_type": "execute_result"
    }
   ],
   "source": [
    "np.mean(temp)"
   ]
  },
  {
   "cell_type": "code",
   "execution_count": 9,
   "id": "330f5ed4-24c5-48de-876a-ff20c941f95e",
   "metadata": {},
   "outputs": [
    {
     "data": {
      "text/plain": [
       "2.56"
      ]
     },
     "execution_count": 9,
     "metadata": {},
     "output_type": "execute_result"
    }
   ],
   "source": [
    "np.var(temp)"
   ]
  },
  {
   "cell_type": "code",
   "execution_count": 10,
   "id": "020d6866-26c4-495d-87eb-85970b2cdda3",
   "metadata": {},
   "outputs": [
    {
     "data": {
      "text/plain": [
       "1.6"
      ]
     },
     "execution_count": 10,
     "metadata": {},
     "output_type": "execute_result"
    }
   ],
   "source": [
    "np.std(temp)"
   ]
  },
  {
   "cell_type": "code",
   "execution_count": 11,
   "id": "8d61031d-53c7-485e-bc27-03e6c96804b8",
   "metadata": {},
   "outputs": [
    {
     "data": {
      "text/plain": [
       "3.0"
      ]
     },
     "execution_count": 11,
     "metadata": {},
     "output_type": "execute_result"
    }
   ],
   "source": [
    "np.median(temp)"
   ]
  },
  {
   "cell_type": "code",
   "execution_count": 13,
   "id": "1a723166-28e3-4a6a-87c3-c0eef2bd56c8",
   "metadata": {},
   "outputs": [
    {
     "data": {
      "text/plain": [
       "array([ 1,  4,  9, 25, 25])"
      ]
     },
     "execution_count": 13,
     "metadata": {},
     "output_type": "execute_result"
    }
   ],
   "source": [
    "np.power(temp,2)"
   ]
  },
  {
   "cell_type": "code",
   "execution_count": 14,
   "id": "c9225979-d46b-47e6-977d-c7ce5f223a85",
   "metadata": {},
   "outputs": [
    {
     "data": {
      "text/plain": [
       "array([1.        , 1.41421356, 1.73205081, 2.23606798, 2.23606798])"
      ]
     },
     "execution_count": 14,
     "metadata": {},
     "output_type": "execute_result"
    }
   ],
   "source": [
    "np.sqrt(temp)"
   ]
  },
  {
   "cell_type": "code",
   "execution_count": 15,
   "id": "3fe31a35-0ddd-4cb1-822a-23d20335f2ce",
   "metadata": {},
   "outputs": [
    {
     "data": {
      "text/plain": [
       "1"
      ]
     },
     "execution_count": 15,
     "metadata": {},
     "output_type": "execute_result"
    }
   ],
   "source": [
    "np.min(temp)"
   ]
  },
  {
   "cell_type": "code",
   "execution_count": 16,
   "id": "f4be7019-775c-4e1c-a652-b1c62db77baf",
   "metadata": {},
   "outputs": [
    {
     "data": {
      "text/plain": [
       "5"
      ]
     },
     "execution_count": 16,
     "metadata": {},
     "output_type": "execute_result"
    }
   ],
   "source": [
    "np.max(temp)"
   ]
  },
  {
   "cell_type": "code",
   "execution_count": 17,
   "id": "52818392-a320-4a27-a822-376a23784a84",
   "metadata": {},
   "outputs": [
    {
     "data": {
      "text/plain": [
       "0"
      ]
     },
     "execution_count": 17,
     "metadata": {},
     "output_type": "execute_result"
    }
   ],
   "source": [
    "np.argmin(temp)"
   ]
  },
  {
   "cell_type": "code",
   "execution_count": 18,
   "id": "09427a56-9329-4df0-bd54-bfb247106df4",
   "metadata": {},
   "outputs": [
    {
     "data": {
      "text/plain": [
       "3"
      ]
     },
     "execution_count": 18,
     "metadata": {},
     "output_type": "execute_result"
    }
   ],
   "source": [
    "np.argmax(temp)"
   ]
  },
  {
   "cell_type": "code",
   "execution_count": 19,
   "id": "b9b14336-d4b4-47d0-951b-2ec5c725fc0a",
   "metadata": {},
   "outputs": [
    {
     "data": {
      "text/plain": [
       "array([  2.71828183,   7.3890561 ,  20.08553692, 148.4131591 ,\n",
       "       148.4131591 ])"
      ]
     },
     "execution_count": 19,
     "metadata": {},
     "output_type": "execute_result"
    }
   ],
   "source": [
    "np.exp(temp)"
   ]
  },
  {
   "cell_type": "code",
   "execution_count": 20,
   "id": "08fefed3-8a23-4eb3-a7ef-d0c387c69dc7",
   "metadata": {},
   "outputs": [
    {
     "data": {
      "text/plain": [
       "22026.465794806718"
      ]
     },
     "execution_count": 20,
     "metadata": {},
     "output_type": "execute_result"
    }
   ],
   "source": [
    "np.exp(10)"
   ]
  },
  {
   "cell_type": "code",
   "execution_count": 22,
   "id": "a00fd35c-0062-4ea1-b19f-bf200df82943",
   "metadata": {},
   "outputs": [
    {
     "data": {
      "text/plain": [
       "2.302585092994046"
      ]
     },
     "execution_count": 22,
     "metadata": {},
     "output_type": "execute_result"
    }
   ],
   "source": [
    "np.log(10)"
   ]
  },
  {
   "cell_type": "code",
   "execution_count": null,
   "id": "e8ee24f7-f834-49ad-aaf5-ffffa5443d17",
   "metadata": {},
   "outputs": [],
   "source": []
  }
 ],
 "metadata": {
  "kernelspec": {
   "display_name": "Python 3 (ipykernel)",
   "language": "python",
   "name": "python3"
  },
  "language_info": {
   "codemirror_mode": {
    "name": "ipython",
    "version": 3
   },
   "file_extension": ".py",
   "mimetype": "text/x-python",
   "name": "python",
   "nbconvert_exporter": "python",
   "pygments_lexer": "ipython3",
   "version": "3.12.3"
  }
 },
 "nbformat": 4,
 "nbformat_minor": 5
}
