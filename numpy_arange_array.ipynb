{
 "cells": [
  {
   "cell_type": "code",
   "execution_count": 3,
   "id": "6ac5162f-0fc3-44d5-8fdf-5955a282a941",
   "metadata": {},
   "outputs": [],
   "source": [
    "import numpy as np"
   ]
  },
  {
   "cell_type": "code",
   "execution_count": 4,
   "id": "6db741b4-df2c-48b6-a098-bbc43ca3b0b5",
   "metadata": {},
   "outputs": [
    {
     "data": {
      "text/plain": [
       "array([0, 1, 2, 3, 4, 5, 6, 7, 8, 9])"
      ]
     },
     "execution_count": 4,
     "metadata": {},
     "output_type": "execute_result"
    }
   ],
   "source": [
    "np.arange(10)"
   ]
  },
  {
   "cell_type": "code",
   "execution_count": 5,
   "id": "11a5c7cf-5337-4e6d-8768-ede725a5b37c",
   "metadata": {},
   "outputs": [
    {
     "data": {
      "text/plain": [
       "numpy.ndarray"
      ]
     },
     "execution_count": 5,
     "metadata": {},
     "output_type": "execute_result"
    }
   ],
   "source": [
    "type(np.arange(10))"
   ]
  },
  {
   "cell_type": "code",
   "execution_count": 6,
   "id": "56674038-c5e3-4c21-a82d-c7300ed70760",
   "metadata": {},
   "outputs": [
    {
     "data": {
      "text/plain": [
       "(10,)"
      ]
     },
     "execution_count": 6,
     "metadata": {},
     "output_type": "execute_result"
    }
   ],
   "source": [
    "arr = np.arange(10)\n",
    "'''获取数组形状'''\n",
    "arr.shape"
   ]
  },
  {
   "cell_type": "code",
   "execution_count": 5,
   "id": "b8d1eaa8-fb5a-4b14-ac3d-82191f24add1",
   "metadata": {},
   "outputs": [
    {
     "data": {
      "text/plain": [
       "10"
      ]
     },
     "execution_count": 5,
     "metadata": {},
     "output_type": "execute_result"
    }
   ],
   "source": [
    "arr.shape[0]"
   ]
  },
  {
   "cell_type": "markdown",
   "id": "e6afa0b6-b9a2-4eb4-97ff-e2d92e5845a9",
   "metadata": {},
   "source": [
    "列表转ndarray类型"
   ]
  },
  {
   "cell_type": "code",
   "execution_count": 6,
   "id": "88c26177-10ec-463f-ac4d-1ed95d45ae77",
   "metadata": {},
   "outputs": [
    {
     "data": {
      "text/plain": [
       "array([1, 2, 3, 4, 5])"
      ]
     },
     "execution_count": 6,
     "metadata": {},
     "output_type": "execute_result"
    }
   ],
   "source": [
    "np.array([1,2,3,4,5])"
   ]
  },
  {
   "cell_type": "code",
   "execution_count": 7,
   "id": "be4d8c09-bbe2-495d-8443-ccd50fdabc32",
   "metadata": {},
   "outputs": [],
   "source": [
    "my_list = [1,2,3,4,5]"
   ]
  },
  {
   "cell_type": "code",
   "execution_count": 8,
   "id": "4471b5f1-5cbf-444c-942d-5abc82abc980",
   "metadata": {},
   "outputs": [
    {
     "data": {
      "text/plain": [
       "(5,)"
      ]
     },
     "execution_count": 8,
     "metadata": {},
     "output_type": "execute_result"
    }
   ],
   "source": [
    "arr = np.array(my_list)\n",
    "arr.shape"
   ]
  },
  {
   "cell_type": "markdown",
   "id": "6d885978-5e45-4daf-acef-f35d5980b717",
   "metadata": {},
   "source": [
    "创建二维数组"
   ]
  },
  {
   "cell_type": "code",
   "execution_count": 9,
   "id": "4bfd23c8-8e22-4ccb-8bf9-fe17bbb7bc4e",
   "metadata": {},
   "outputs": [
    {
     "data": {
      "text/plain": [
       "(3, 3)"
      ]
     },
     "execution_count": 9,
     "metadata": {},
     "output_type": "execute_result"
    }
   ],
   "source": [
    "arr = np.array([[1,2,3],[4,5,6],[7,8,9]])\n",
    "arr.shape"
   ]
  },
  {
   "cell_type": "code",
   "execution_count": 10,
   "id": "1806ee3d-014f-4573-9198-e6ba14eb1c0e",
   "metadata": {},
   "outputs": [
    {
     "data": {
      "text/plain": [
       "array([[1, 2, 3],\n",
       "       [4, 5, 6],\n",
       "       [7, 8, 9]])"
      ]
     },
     "execution_count": 10,
     "metadata": {},
     "output_type": "execute_result"
    }
   ],
   "source": [
    "arr"
   ]
  },
  {
   "cell_type": "code",
   "execution_count": 13,
   "id": "eb69527f-df42-4035-9e7c-8f5ac1f31f70",
   "metadata": {},
   "outputs": [
    {
     "data": {
      "text/plain": [
       "(1, 1, 5)"
      ]
     },
     "execution_count": 13,
     "metadata": {},
     "output_type": "execute_result"
    }
   ],
   "source": [
    "arr = np.array([[1,2,3,4,5]], ndmin=3)\n",
    "arr.shape"
   ]
  },
  {
   "cell_type": "code",
   "execution_count": 13,
   "id": "5d72557f-3030-418b-aa76-4da350147670",
   "metadata": {},
   "outputs": [
    {
     "data": {
      "text/plain": [
       "array([[[1, 2, 3, 4, 5]]])"
      ]
     },
     "execution_count": 13,
     "metadata": {},
     "output_type": "execute_result"
    }
   ],
   "source": [
    "arr"
   ]
  },
  {
   "cell_type": "code",
   "execution_count": 14,
   "id": "240cf940-f9f1-46ff-b600-8ca033b57308",
   "metadata": {},
   "outputs": [
    {
     "data": {
      "text/plain": [
       "array([1., 2., 3., 4., 5.])"
      ]
     },
     "execution_count": 14,
     "metadata": {},
     "output_type": "execute_result"
    }
   ],
   "source": [
    "arr = np.array([1,2,3,4,5],dtype=float)\n",
    "arr"
   ]
  },
  {
   "cell_type": "markdown",
   "id": "1a85bab4-c88b-4c57-8c3b-a3e2665d2ca4",
   "metadata": {},
   "source": [
    "arange创建\n",
    "    使用arange函数创建数值返回并返回ndarray对象：\n",
    "    numpy.arange(start,stop,step,dtype)\n",
    "    start:启始值，默认为0\n",
    "    stop:终止值(不包含)\n",
    "    step:步长，默认为1\n",
    "    dtype: 返回ndarray的数据类型，如果没有提供，则会使用输入数据的类型.\n"
   ]
  },
  {
   "cell_type": "code",
   "execution_count": 15,
   "id": "4c43845b-f0cb-49e5-8e8c-9530bbae3ccc",
   "metadata": {},
   "outputs": [
    {
     "data": {
      "text/plain": [
       "array([ 0.,  1.,  2.,  3.,  4.,  5.,  6.,  7.,  8.,  9., 10.])"
      ]
     },
     "execution_count": 15,
     "metadata": {},
     "output_type": "execute_result"
    }
   ],
   "source": [
    "np.arange(10.5)"
   ]
  },
  {
   "cell_type": "code",
   "execution_count": 18,
   "id": "dd2e6787-7d90-481b-985b-c122c942ad52",
   "metadata": {},
   "outputs": [
    {
     "data": {
      "text/plain": [
       "array([1., 3., 5., 7., 9.])"
      ]
     },
     "execution_count": 18,
     "metadata": {},
     "output_type": "execute_result"
    }
   ],
   "source": [
    "np.arange(1,10,2,dtype=float)"
   ]
  },
  {
   "cell_type": "markdown",
   "id": "647e855e-19de-4a9b-bd99-c041eb9b2f47",
   "metadata": {},
   "source": [
    "使用arange创建多维数组"
   ]
  },
  {
   "cell_type": "code",
   "execution_count": 14,
   "id": "b89a5827-c3b8-4105-a97d-ef0c4175ab06",
   "metadata": {},
   "outputs": [
    {
     "name": "stdout",
     "output_type": "stream",
     "text": [
      "[[1 2 3]\n",
      " [4 5 6]\n",
      " [7 8 9]]\n",
      "b数组的维度: (3, 3)\n"
     ]
    }
   ],
   "source": [
    "b = np.array([np.arange(1,4),np.arange(4,7),np.arange(7,10)])\n",
    "print(b)\n",
    "print('b数组的维度:',b.shape)"
   ]
  },
  {
   "cell_type": "code",
   "execution_count": 15,
   "id": "de00f186-acda-4c53-8db4-184d44cc87b6",
   "metadata": {},
   "outputs": [
    {
     "data": {
      "text/plain": [
       "(3, 3)"
      ]
     },
     "execution_count": 15,
     "metadata": {},
     "output_type": "execute_result"
    }
   ],
   "source": [
    "b.shape"
   ]
  },
  {
   "cell_type": "code",
   "execution_count": null,
   "id": "5fa7c2c3-9199-4192-b83f-a152b1cb031e",
   "metadata": {},
   "outputs": [],
   "source": []
  }
 ],
 "metadata": {
  "kernelspec": {
   "display_name": "Python 3 (ipykernel)",
   "language": "python",
   "name": "python3"
  },
  "language_info": {
   "codemirror_mode": {
    "name": "ipython",
    "version": 3
   },
   "file_extension": ".py",
   "mimetype": "text/x-python",
   "name": "python",
   "nbconvert_exporter": "python",
   "pygments_lexer": "ipython3",
   "version": "3.12.3"
  }
 },
 "nbformat": 4,
 "nbformat_minor": 5
}
